{
 "cells": [
  {
   "cell_type": "raw",
   "metadata": {},
   "source": [
    "Twitterから特定ユーザーのツイートを取得して\n",
    "pandas形式で記録、取得した日時のファイルで保存する"
   ]
  },
  {
   "cell_type": "code",
   "execution_count": 1,
   "metadata": {
    "ExecuteTime": {
     "end_time": "2018-08-25T13:16:47.102874Z",
     "start_time": "2018-08-25T13:16:46.549414Z"
    }
   },
   "outputs": [],
   "source": [
    "import os \n",
    "import tweepy\n",
    "import pandas as pd\n"
   ]
  },
  {
   "cell_type": "code",
   "execution_count": 2,
   "metadata": {
    "ExecuteTime": {
     "end_time": "2018-08-25T13:16:47.702526Z",
     "start_time": "2018-08-25T13:16:47.687180Z"
    }
   },
   "outputs": [
    {
     "data": {
      "text/plain": [
       "environ({'TERM_PROGRAM': 'Apple_Terminal', 'TWT_ACCESS_TOKEN': '704468906191167488-LljA7twRDNQE8QCOTDPRQUFMOVWJ7SM', 'TERM': 'xterm-color', 'SHELL': '/bin/bash', 'TMPDIR': '/var/folders/tc/m4krk3jj7x79kp_czpk2vbtw0000gn/T/', 'Apple_PubSub_Socket_Render': '/private/tmp/com.apple.launchd.XI05Tyh1mw/Render', 'CONDA_SHLVL': '1', 'TERM_PROGRAM_VERSION': '404', 'CONDA_PROMPT_MODIFIER': '(base) ', 'TERM_SESSION_ID': 'D5B4A41E-C6E1-41C6-9F30-0AAF9E913840', 'LC_ALL': 'en_US.UTF-8', 'USER': 'nkenta', 'CONDA_EXE': '/Users/nkenta/anaconda3/bin/conda', 'SSH_AUTH_SOCK': '/private/tmp/com.apple.launchd.EL71nGjtb8/Listeners', 'CONDA_ROOT': '/Users/nkenta/anaconda3', 'PATH': '/Library/Frameworks/Python.framework/Versions/3.6/bin:/Users/nkenta/anaconda3/bin://anaconda/bin:/Users/nkenta/anaconda3/bin://anaconda/bin:/usr/local/bin:/usr/bin:/bin:/usr/sbin:/sbin:/usr/local/mysql/bin', 'CONDA_PREFIX': '/Users/nkenta/anaconda3', 'TWT_CONSUMER_KEY': 'X5tea3PC4J9xVdGXOsDAJ1mC1', 'PWD': '/Users/nkenta', 'LANG': 'ja_JP.UTF-8', 'XPC_FLAGS': '0x0', 'XPC_SERVICE_NAME': '0', 'SHLVL': '4', 'HOME': '/Users/nkenta', 'CONDA_PYTHON_EXE': '/Users/nkenta/anaconda3/bin/python', 'LOGNAME': 'nkenta', 'CONDA_DEFAULT_ENV': 'base', 'TWT_CONSUMER_SECRET': 's2dEIwe9MYyWtlGjX2D7kKgw0ylvOhZXQikMR4DIf7kKchKM4O', 'TWT_ACCESS_TOKEN_SECRET': 'L64xKxcEOb2XkbIvpwNlCEQoccbd9tap32H6gBESTePzf', '_': '/Users/nkenta/anaconda3/bin/jupyter-notebook', 'JPY_PARENT_PID': '11735', 'CLICOLOR': '1', 'PAGER': 'cat', 'GIT_PAGER': 'cat', 'MPLBACKEND': 'module://ipykernel.pylab.backend_inline'})"
      ]
     },
     "execution_count": 2,
     "metadata": {},
     "output_type": "execute_result"
    }
   ],
   "source": [
    "os.environ"
   ]
  },
  {
   "cell_type": "code",
   "execution_count": 3,
   "metadata": {
    "ExecuteTime": {
     "end_time": "2018-08-25T13:16:55.042792Z",
     "start_time": "2018-08-25T13:16:55.038379Z"
    }
   },
   "outputs": [],
   "source": [
    "#認証情報\n",
    "CONSUMER_KEY = os.environ[\"TWT_CONSUMER_KEY\"]\n",
    "CONSUMER_SECRET = os.environ[\"TWT_CONSUMER_SECRET\"]\n",
    "ACCESS_TOKEN = os.environ[\"TWT_ACCESS_TOKEN\"]\n",
    "ACCESS_TOKEN_SECRET = os.environ[\"TWT_ACCESS_TOKEN_SECRET\"]\n"
   ]
  },
  {
   "cell_type": "code",
   "execution_count": 4,
   "metadata": {
    "ExecuteTime": {
     "end_time": "2018-08-25T13:16:57.515609Z",
     "start_time": "2018-08-25T13:16:57.066122Z"
    },
    "scrolled": true
   },
   "outputs": [],
   "source": [
    "#認証情報セット\n",
    "auth=tweepy.OAuthHandler(CONSUMER_KEY,CONSUMER_SECRET)\n",
    "auth.set_access_token(ACCESS_TOKEN,ACCESS_TOKEN_SECRET)\n",
    "\n",
    "api = tweepy.API(auth)\n",
    "public_tweets = api.home_timeline()\n",
    "\n",
    "#for status in public_tweets:\n",
    "#    print(\"@\" + status.user.screen_name, status.text)"
   ]
  },
  {
   "cell_type": "code",
   "execution_count": null,
   "metadata": {},
   "outputs": [],
   "source": []
  },
  {
   "cell_type": "code",
   "execution_count": 6,
   "metadata": {
    "ExecuteTime": {
     "end_time": "2018-08-25T13:17:06.738426Z",
     "start_time": "2018-08-25T13:17:05.980611Z"
    },
    "scrolled": true
   },
   "outputs": [
    {
     "name": "stdout",
     "output_type": "stream",
     "text": [
      "1033338354018832384\n",
      "1033338320439234560\n",
      "1033338145666818048\n",
      "1033337878539948032\n",
      "1033336062699917313\n",
      "1033333303116357632\n",
      "1033332971862818816\n",
      "1033327853276786689\n",
      "1033327201020608512\n",
      "1033327179679977474\n",
      "1033327161426362369\n",
      "1033324213896003586\n",
      "1033323845489283073\n",
      "1033323402449174528\n",
      "1033323299688730624\n",
      "1033323273721806848\n",
      "1033322077955092480\n",
      "1033321913324466176\n",
      "1033321727789387776\n",
      "1033320544714641408\n"
     ]
    }
   ],
   "source": [
    "user = api.get_user('muratamika2020')\n",
    "#Retweetされたものは除きたい\n",
    "timeline = user.timeline()\n",
    "\n",
    "for i in timeline:\n",
    "        print(i.id)\n",
    "#        print(\"@\" + i.user.screen_name)\n",
    "#        print(i.created_at)\n",
    "#        print(\"Retweeted: \"+str(i.retweeted))\n",
    "#        print(\"Truncated: \"+str(i.truncated))\n",
    "#    print(i.retweeted_status)\n",
    "#        print(i.text)\n",
    "#        print(\"-----------------\")"
   ]
  },
  {
   "cell_type": "code",
   "execution_count": 253,
   "metadata": {},
   "outputs": [],
   "source": [
    "def df_reset():\n",
    "    global df\n",
    "    df = [[]]\n",
    "    df = pd.DataFrame(columns=[\"tweetid\",\n",
    "                               \"userid\",\n",
    "                               \"screen_name\",\n",
    "                               \"date\",\n",
    "                               \"retweetedflg\",\n",
    "                               \"retweet_count\",\n",
    "                               \"truncatedflg\",\n",
    "                               \"text\",\n",
    "                               \"rt_id\"])\n",
    "    print(\"df initialized\")\n",
    "    return df"
   ]
  },
  {
   "cell_type": "code",
   "execution_count": 254,
   "metadata": {
    "scrolled": true
   },
   "outputs": [
    {
     "name": "stdout",
     "output_type": "stream",
     "text": [
      "df initialized\n"
     ]
    },
    {
     "data": {
      "text/html": [
       "<div>\n",
       "<table border=\"1\" class=\"dataframe\">\n",
       "  <thead>\n",
       "    <tr style=\"text-align: right;\">\n",
       "      <th></th>\n",
       "      <th>tweetid</th>\n",
       "      <th>userid</th>\n",
       "      <th>screen_name</th>\n",
       "      <th>date</th>\n",
       "      <th>retweetedflg</th>\n",
       "      <th>retweet_count</th>\n",
       "      <th>truncatedflg</th>\n",
       "      <th>text</th>\n",
       "      <th>rt_id</th>\n",
       "    </tr>\n",
       "  </thead>\n",
       "  <tbody>\n",
       "  </tbody>\n",
       "</table>\n",
       "</div>"
      ],
      "text/plain": [
       "Empty DataFrame\n",
       "Columns: [tweetid, userid, screen_name, date, retweetedflg, retweet_count, truncatedflg, text, rt_id]\n",
       "Index: []"
      ]
     },
     "execution_count": 254,
     "metadata": {},
     "output_type": "execute_result"
    }
   ],
   "source": [
    "df_reset()"
   ]
  },
  {
   "cell_type": "code",
   "execution_count": 257,
   "metadata": {
    "scrolled": true
   },
   "outputs": [
    {
     "name": "stdout",
     "output_type": "stream",
     "text": [
      "df initialized\n"
     ]
    }
   ],
   "source": [
    "#ツイート取得してpandasに格納する\n",
    "#そのうちmongoDBに入れたい\n",
    "df_reset()\n",
    "\n",
    "# Get the User object for twitter...\n",
    "user = api.get_user('muratamika2020')\n",
    "#user = api.get_user('minnanokabusiki')\n",
    "\n",
    "#Retweetはフラグ立てる。\"RT @\"で始まりかつretweeted\n",
    "timeline = user.timeline(count=20,include_rts=True)\n",
    "\n",
    "for i in timeline:\n",
    "    if not i.retweeted and not i.text.startswith('RT @') :\n",
    "        retweeted = 0\n",
    "        rtid = 0\n",
    "    else:\n",
    "        retweeted = 1\n",
    "        rtid = i.retweeted_status.id_str\n",
    "    row = pd.Series([i.id_str,\n",
    "                     i.user.id_str,\n",
    "                     i.user.screen_name, \n",
    "                     i.created_at,\n",
    "                     retweeted,\n",
    "                     i.retweet_count,\n",
    "                     str(i.truncated),\n",
    "                     i.text,\n",
    "                     rtid],\n",
    "                    index=df.columns)\n",
    "    df = df.append(row,ignore_index = True)\n"
   ]
  },
  {
   "cell_type": "code",
   "execution_count": 258,
   "metadata": {
    "scrolled": true
   },
   "outputs": [
    {
     "data": {
      "text/html": [
       "<div>\n",
       "<table border=\"1\" class=\"dataframe\">\n",
       "  <thead>\n",
       "    <tr style=\"text-align: right;\">\n",
       "      <th></th>\n",
       "      <th>tweetid</th>\n",
       "      <th>userid</th>\n",
       "      <th>screen_name</th>\n",
       "      <th>date</th>\n",
       "      <th>retweetedflg</th>\n",
       "      <th>retweet_count</th>\n",
       "      <th>truncatedflg</th>\n",
       "      <th>text</th>\n",
       "      <th>rt_id</th>\n",
       "    </tr>\n",
       "  </thead>\n",
       "  <tbody>\n",
       "    <tr>\n",
       "      <th>0</th>\n",
       "      <td>876055388247867392</td>\n",
       "      <td>811734992426450945</td>\n",
       "      <td>muratamika2020</td>\n",
       "      <td>2017-06-17 12:34:15</td>\n",
       "      <td>1.0</td>\n",
       "      <td>7.0</td>\n",
       "      <td>False</td>\n",
       "      <td>RT @muratamika2020: 私が、本名顔出しでtwitterやってる意味を。(*...</td>\n",
       "      <td>874503324921286656</td>\n",
       "    </tr>\n",
       "    <tr>\n",
       "      <th>1</th>\n",
       "      <td>876055363962912768</td>\n",
       "      <td>811734992426450945</td>\n",
       "      <td>muratamika2020</td>\n",
       "      <td>2017-06-17 12:34:09</td>\n",
       "      <td>1.0</td>\n",
       "      <td>16.0</td>\n",
       "      <td>False</td>\n",
       "      <td>RT @muratamika2020: 皆が不安にならないように、最新情報を発信しております...</td>\n",
       "      <td>875899013853138945</td>\n",
       "    </tr>\n",
       "    <tr>\n",
       "      <th>2</th>\n",
       "      <td>876055117987958784</td>\n",
       "      <td>811734992426450945</td>\n",
       "      <td>muratamika2020</td>\n",
       "      <td>2017-06-17 12:33:11</td>\n",
       "      <td>1.0</td>\n",
       "      <td>19.0</td>\n",
       "      <td>False</td>\n",
       "      <td>RT @yasukichi720: 好評につき応募殺到の為、会場変更！定員大幅拡大しました！...</td>\n",
       "      <td>875299652064559104</td>\n",
       "    </tr>\n",
       "    <tr>\n",
       "      <th>3</th>\n",
       "      <td>876054690559016961</td>\n",
       "      <td>811734992426450945</td>\n",
       "      <td>muratamika2020</td>\n",
       "      <td>2017-06-17 12:31:29</td>\n",
       "      <td>1.0</td>\n",
       "      <td>2.0</td>\n",
       "      <td>False</td>\n",
       "      <td>RT @muratamika2020: @manaka0501_pad @ZPVrw3rL1...</td>\n",
       "      <td>876054651036065792</td>\n",
       "    </tr>\n",
       "    <tr>\n",
       "      <th>4</th>\n",
       "      <td>876054660640931840</td>\n",
       "      <td>811734992426450945</td>\n",
       "      <td>muratamika2020</td>\n",
       "      <td>2017-06-17 12:31:22</td>\n",
       "      <td>1.0</td>\n",
       "      <td>2.0</td>\n",
       "      <td>False</td>\n",
       "      <td>RT @manaka0501_pad: @ZPVrw3rL1pBb1Kd @muratami...</td>\n",
       "      <td>876054531045339136</td>\n",
       "    </tr>\n",
       "    <tr>\n",
       "      <th>5</th>\n",
       "      <td>876054651036065792</td>\n",
       "      <td>811734992426450945</td>\n",
       "      <td>muratamika2020</td>\n",
       "      <td>2017-06-17 12:31:19</td>\n",
       "      <td>0.0</td>\n",
       "      <td>2.0</td>\n",
       "      <td>False</td>\n",
       "      <td>@manaka0501_pad @ZPVrw3rL1pBb1Kd １度一緒に飲もうや。全部説...</td>\n",
       "      <td>0</td>\n",
       "    </tr>\n",
       "    <tr>\n",
       "      <th>6</th>\n",
       "      <td>876054415395790848</td>\n",
       "      <td>811734992426450945</td>\n",
       "      <td>muratamika2020</td>\n",
       "      <td>2017-06-17 12:30:23</td>\n",
       "      <td>1.0</td>\n",
       "      <td>5.0</td>\n",
       "      <td>False</td>\n",
       "      <td>RT @muratamika2020: 全ての相場そうですが、大口介在銘柄は、\\n二次曲線の...</td>\n",
       "      <td>876053778444591105</td>\n",
       "    </tr>\n",
       "    <tr>\n",
       "      <th>7</th>\n",
       "      <td>876054198760030208</td>\n",
       "      <td>811734992426450945</td>\n",
       "      <td>muratamika2020</td>\n",
       "      <td>2017-06-17 12:29:31</td>\n",
       "      <td>0.0</td>\n",
       "      <td>0.0</td>\n",
       "      <td>False</td>\n",
       "      <td>全て計画</td>\n",
       "      <td>0</td>\n",
       "    </tr>\n",
       "    <tr>\n",
       "      <th>8</th>\n",
       "      <td>876054097501208576</td>\n",
       "      <td>811734992426450945</td>\n",
       "      <td>muratamika2020</td>\n",
       "      <td>2017-06-17 12:29:07</td>\n",
       "      <td>0.0</td>\n",
       "      <td>1.0</td>\n",
       "      <td>False</td>\n",
       "      <td>アカツキも大口介在の綺麗なチャート。押し目が計画的。</td>\n",
       "      <td>0</td>\n",
       "    </tr>\n",
       "    <tr>\n",
       "      <th>9</th>\n",
       "      <td>876053895549558784</td>\n",
       "      <td>811734992426450945</td>\n",
       "      <td>muratamika2020</td>\n",
       "      <td>2017-06-17 12:28:19</td>\n",
       "      <td>1.0</td>\n",
       "      <td>28.0</td>\n",
       "      <td>False</td>\n",
       "      <td>RT @muratamika2020: 大相場は二次曲線 https://t.co/MEXm...</td>\n",
       "      <td>811823817232445440</td>\n",
       "    </tr>\n",
       "    <tr>\n",
       "      <th>10</th>\n",
       "      <td>876053778444591105</td>\n",
       "      <td>811734992426450945</td>\n",
       "      <td>muratamika2020</td>\n",
       "      <td>2017-06-17 12:27:51</td>\n",
       "      <td>0.0</td>\n",
       "      <td>5.0</td>\n",
       "      <td>False</td>\n",
       "      <td>全ての相場そうですが、大口介在銘柄は、\\n二次曲線の極みになる前に、押し目を作りながら伸ばし...</td>\n",
       "      <td>0</td>\n",
       "    </tr>\n",
       "    <tr>\n",
       "      <th>11</th>\n",
       "      <td>876053423321251841</td>\n",
       "      <td>811734992426450945</td>\n",
       "      <td>muratamika2020</td>\n",
       "      <td>2017-06-17 12:26:27</td>\n",
       "      <td>1.0</td>\n",
       "      <td>20.0</td>\n",
       "      <td>False</td>\n",
       "      <td>RT @muratamika2020: 押し目があった方が良いですよ。\\n相場も長く続くし。...</td>\n",
       "      <td>869582545247117313</td>\n",
       "    </tr>\n",
       "    <tr>\n",
       "      <th>12</th>\n",
       "      <td>876053321508835328</td>\n",
       "      <td>811734992426450945</td>\n",
       "      <td>muratamika2020</td>\n",
       "      <td>2017-06-17 12:26:02</td>\n",
       "      <td>1.0</td>\n",
       "      <td>2.0</td>\n",
       "      <td>False</td>\n",
       "      <td>RT @muratamika2020: @yamamantheworld チャート的に１度下...</td>\n",
       "      <td>876053293016809472</td>\n",
       "    </tr>\n",
       "    <tr>\n",
       "      <th>13</th>\n",
       "      <td>876053308745457664</td>\n",
       "      <td>811734992426450945</td>\n",
       "      <td>muratamika2020</td>\n",
       "      <td>2017-06-17 12:25:59</td>\n",
       "      <td>1.0</td>\n",
       "      <td>1.0</td>\n",
       "      <td>False</td>\n",
       "      <td>RT @yamamantheworld: 1000円ちょい手前で離そうかと思ってましたが、粘...</td>\n",
       "      <td>876052887842848768</td>\n",
       "    </tr>\n",
       "    <tr>\n",
       "      <th>14</th>\n",
       "      <td>876053293016809472</td>\n",
       "      <td>811734992426450945</td>\n",
       "      <td>muratamika2020</td>\n",
       "      <td>2017-06-17 12:25:55</td>\n",
       "      <td>0.0</td>\n",
       "      <td>2.0</td>\n",
       "      <td>False</td>\n",
       "      <td>@yamamantheworld チャート的に１度下に振る。</td>\n",
       "      <td>0</td>\n",
       "    </tr>\n",
       "    <tr>\n",
       "      <th>15</th>\n",
       "      <td>876052062466842624</td>\n",
       "      <td>811734992426450945</td>\n",
       "      <td>muratamika2020</td>\n",
       "      <td>2017-06-17 12:21:02</td>\n",
       "      <td>1.0</td>\n",
       "      <td>12.0</td>\n",
       "      <td>False</td>\n",
       "      <td>RT @muratamika2020: 4563　アンジェスは、前回高値の1000円どころは...</td>\n",
       "      <td>876050773674676224</td>\n",
       "    </tr>\n",
       "    <tr>\n",
       "      <th>16</th>\n",
       "      <td>876051103560769537</td>\n",
       "      <td>811734992426450945</td>\n",
       "      <td>muratamika2020</td>\n",
       "      <td>2017-06-17 12:17:13</td>\n",
       "      <td>1.0</td>\n",
       "      <td>91.0</td>\n",
       "      <td>False</td>\n",
       "      <td>RT @muratamika2020: ＞4563　アンジェス　\\n＞目先、昨年の高値（94...</td>\n",
       "      <td>874981908693659649</td>\n",
       "    </tr>\n",
       "    <tr>\n",
       "      <th>17</th>\n",
       "      <td>876051067217129472</td>\n",
       "      <td>811734992426450945</td>\n",
       "      <td>muratamika2020</td>\n",
       "      <td>2017-06-17 12:17:05</td>\n",
       "      <td>1.0</td>\n",
       "      <td>130.0</td>\n",
       "      <td>False</td>\n",
       "      <td>RT @muratamika2020: 独立のコメント\\n\\nアンジェスは1,000円までい...</td>\n",
       "      <td>875047170608689153</td>\n",
       "    </tr>\n",
       "    <tr>\n",
       "      <th>18</th>\n",
       "      <td>876050773674676224</td>\n",
       "      <td>811734992426450945</td>\n",
       "      <td>muratamika2020</td>\n",
       "      <td>2017-06-17 12:15:55</td>\n",
       "      <td>0.0</td>\n",
       "      <td>12.0</td>\n",
       "      <td>False</td>\n",
       "      <td>4563　アンジェスは、前回高値の1000円どころは通過点。(*^-^*)\\n下に振りますよ...</td>\n",
       "      <td>0</td>\n",
       "    </tr>\n",
       "    <tr>\n",
       "      <th>19</th>\n",
       "      <td>876050200728444930</td>\n",
       "      <td>811734992426450945</td>\n",
       "      <td>muratamika2020</td>\n",
       "      <td>2017-06-17 12:13:38</td>\n",
       "      <td>1.0</td>\n",
       "      <td>5.0</td>\n",
       "      <td>False</td>\n",
       "      <td>RT @aityandaisyori: @muratamika2020 アナニーして寝てろ♡...</td>\n",
       "      <td>876050004904878082</td>\n",
       "    </tr>\n",
       "  </tbody>\n",
       "</table>\n",
       "</div>"
      ],
      "text/plain": [
       "               tweetid              userid     screen_name  \\\n",
       "0   876055388247867392  811734992426450945  muratamika2020   \n",
       "1   876055363962912768  811734992426450945  muratamika2020   \n",
       "2   876055117987958784  811734992426450945  muratamika2020   \n",
       "3   876054690559016961  811734992426450945  muratamika2020   \n",
       "4   876054660640931840  811734992426450945  muratamika2020   \n",
       "5   876054651036065792  811734992426450945  muratamika2020   \n",
       "6   876054415395790848  811734992426450945  muratamika2020   \n",
       "7   876054198760030208  811734992426450945  muratamika2020   \n",
       "8   876054097501208576  811734992426450945  muratamika2020   \n",
       "9   876053895549558784  811734992426450945  muratamika2020   \n",
       "10  876053778444591105  811734992426450945  muratamika2020   \n",
       "11  876053423321251841  811734992426450945  muratamika2020   \n",
       "12  876053321508835328  811734992426450945  muratamika2020   \n",
       "13  876053308745457664  811734992426450945  muratamika2020   \n",
       "14  876053293016809472  811734992426450945  muratamika2020   \n",
       "15  876052062466842624  811734992426450945  muratamika2020   \n",
       "16  876051103560769537  811734992426450945  muratamika2020   \n",
       "17  876051067217129472  811734992426450945  muratamika2020   \n",
       "18  876050773674676224  811734992426450945  muratamika2020   \n",
       "19  876050200728444930  811734992426450945  muratamika2020   \n",
       "\n",
       "                  date  retweetedflg  retweet_count truncatedflg  \\\n",
       "0  2017-06-17 12:34:15           1.0            7.0        False   \n",
       "1  2017-06-17 12:34:09           1.0           16.0        False   \n",
       "2  2017-06-17 12:33:11           1.0           19.0        False   \n",
       "3  2017-06-17 12:31:29           1.0            2.0        False   \n",
       "4  2017-06-17 12:31:22           1.0            2.0        False   \n",
       "5  2017-06-17 12:31:19           0.0            2.0        False   \n",
       "6  2017-06-17 12:30:23           1.0            5.0        False   \n",
       "7  2017-06-17 12:29:31           0.0            0.0        False   \n",
       "8  2017-06-17 12:29:07           0.0            1.0        False   \n",
       "9  2017-06-17 12:28:19           1.0           28.0        False   \n",
       "10 2017-06-17 12:27:51           0.0            5.0        False   \n",
       "11 2017-06-17 12:26:27           1.0           20.0        False   \n",
       "12 2017-06-17 12:26:02           1.0            2.0        False   \n",
       "13 2017-06-17 12:25:59           1.0            1.0        False   \n",
       "14 2017-06-17 12:25:55           0.0            2.0        False   \n",
       "15 2017-06-17 12:21:02           1.0           12.0        False   \n",
       "16 2017-06-17 12:17:13           1.0           91.0        False   \n",
       "17 2017-06-17 12:17:05           1.0          130.0        False   \n",
       "18 2017-06-17 12:15:55           0.0           12.0        False   \n",
       "19 2017-06-17 12:13:38           1.0            5.0        False   \n",
       "\n",
       "                                                 text               rt_id  \n",
       "0   RT @muratamika2020: 私が、本名顔出しでtwitterやってる意味を。(*...  874503324921286656  \n",
       "1   RT @muratamika2020: 皆が不安にならないように、最新情報を発信しております...  875899013853138945  \n",
       "2   RT @yasukichi720: 好評につき応募殺到の為、会場変更！定員大幅拡大しました！...  875299652064559104  \n",
       "3   RT @muratamika2020: @manaka0501_pad @ZPVrw3rL1...  876054651036065792  \n",
       "4   RT @manaka0501_pad: @ZPVrw3rL1pBb1Kd @muratami...  876054531045339136  \n",
       "5   @manaka0501_pad @ZPVrw3rL1pBb1Kd １度一緒に飲もうや。全部説...                   0  \n",
       "6   RT @muratamika2020: 全ての相場そうですが、大口介在銘柄は、\\n二次曲線の...  876053778444591105  \n",
       "7                                                全て計画                   0  \n",
       "8                          アカツキも大口介在の綺麗なチャート。押し目が計画的。                   0  \n",
       "9   RT @muratamika2020: 大相場は二次曲線 https://t.co/MEXm...  811823817232445440  \n",
       "10  全ての相場そうですが、大口介在銘柄は、\\n二次曲線の極みになる前に、押し目を作りながら伸ばし...                   0  \n",
       "11  RT @muratamika2020: 押し目があった方が良いですよ。\\n相場も長く続くし。...  869582545247117313  \n",
       "12  RT @muratamika2020: @yamamantheworld チャート的に１度下...  876053293016809472  \n",
       "13  RT @yamamantheworld: 1000円ちょい手前で離そうかと思ってましたが、粘...  876052887842848768  \n",
       "14                     @yamamantheworld チャート的に１度下に振る。                   0  \n",
       "15  RT @muratamika2020: 4563　アンジェスは、前回高値の1000円どころは...  876050773674676224  \n",
       "16  RT @muratamika2020: ＞4563　アンジェス　\\n＞目先、昨年の高値（94...  874981908693659649  \n",
       "17  RT @muratamika2020: 独立のコメント\\n\\nアンジェスは1,000円までい...  875047170608689153  \n",
       "18  4563　アンジェスは、前回高値の1000円どころは通過点。(*^-^*)\\n下に振りますよ...                   0  \n",
       "19  RT @aityandaisyori: @muratamika2020 アナニーして寝てろ♡...  876050004904878082  "
      ]
     },
     "execution_count": 258,
     "metadata": {},
     "output_type": "execute_result"
    }
   ],
   "source": [
    "df"
   ]
  },
  {
   "cell_type": "code",
   "execution_count": 250,
   "metadata": {
    "scrolled": true
   },
   "outputs": [
    {
     "name": "stdout",
     "output_type": "stream",
     "text": [
      "875299652064559104\n",
      "Retweeted\n",
      "876054651036065792\n",
      "Retweeted\n",
      "876054531045339136\n",
      "Retweeted\n",
      "Not retweeted\n",
      "876053778444591105\n",
      "Retweeted\n",
      "Not retweeted\n",
      "Not retweeted\n",
      "811823817232445440\n",
      "Retweeted\n",
      "Not retweeted\n",
      "869582545247117313\n",
      "Retweeted\n",
      "876053293016809472\n",
      "Retweeted\n",
      "876052887842848768\n",
      "Retweeted\n",
      "Not retweeted\n",
      "876050773674676224\n",
      "Retweeted\n",
      "874981908693659649\n",
      "Retweeted\n",
      "875047170608689153\n",
      "Retweeted\n",
      "Not retweeted\n",
      "876050004904878082\n",
      "Retweeted\n",
      "876048970442711040\n",
      "Retweeted\n",
      "876041271885811712\n",
      "Retweeted\n"
     ]
    }
   ],
   "source": [
    "for i in timeline:\n",
    "#    if not i.retweeted:\n",
    "    if not i.retweeted and 'RT @' not in i.text:\n",
    "        print(\"Not retweeted\")\n",
    "    else:\n",
    "        print(i.retweeted_status.id)\n",
    "        print(\"Retweeted\")\n"
   ]
  }
 ],
 "metadata": {
  "kernelspec": {
   "display_name": "Python 3",
   "language": "python",
   "name": "python3"
  },
  "language_info": {
   "codemirror_mode": {
    "name": "ipython",
    "version": 3
   },
   "file_extension": ".py",
   "mimetype": "text/x-python",
   "name": "python",
   "nbconvert_exporter": "python",
   "pygments_lexer": "ipython3",
   "version": "3.6.6"
  },
  "toc": {
   "colors": {
    "hover_highlight": "#DAA520",
    "running_highlight": "#FF0000",
    "selected_highlight": "#FFD700"
   },
   "moveMenuLeft": true,
   "nav_menu": {
    "height": "12px",
    "width": "252px"
   },
   "navigate_menu": true,
   "number_sections": true,
   "sideBar": true,
   "threshold": "4",
   "toc_cell": false,
   "toc_section_display": "block",
   "toc_window_display": false,
   "widenNotebook": false
  },
  "varInspector": {
   "cols": {
    "lenName": 16,
    "lenType": 16,
    "lenVar": 40
   },
   "kernels_config": {
    "python": {
     "delete_cmd_postfix": "",
     "delete_cmd_prefix": "del ",
     "library": "var_list.py",
     "varRefreshCmd": "print(var_dic_list())"
    },
    "r": {
     "delete_cmd_postfix": ") ",
     "delete_cmd_prefix": "rm(",
     "library": "var_list.r",
     "varRefreshCmd": "cat(var_dic_list()) "
    }
   },
   "position": {
    "height": "419px",
    "left": "1070px",
    "right": "19px",
    "top": "120px",
    "width": "351px"
   },
   "types_to_exclude": [
    "module",
    "function",
    "builtin_function_or_method",
    "instance",
    "_Feature"
   ],
   "window_display": false
  }
 },
 "nbformat": 4,
 "nbformat_minor": 2
}
